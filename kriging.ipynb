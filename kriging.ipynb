{
 "cells": [
  {
   "cell_type": "markdown",
   "metadata": {},
   "source": [
    "## Import Libraries"
   ]
  },
  {
   "cell_type": "code",
   "execution_count": 22,
   "metadata": {},
   "outputs": [],
   "source": [
    "import scipy.io\n",
    "import numpy as np\n",
    "from gstools import Gaussian\n",
    "from pykrige.ok import OrdinaryKriging\n",
    "from matplotlib import pyplot as plt\n",
    "from pykrige.uk import UniversalKriging\n",
    "import pykrige.kriging_tools as kt\n",
    "import matplotlib.pyplot as plt"
   ]
  },
  {
   "cell_type": "code",
   "execution_count": 23,
   "metadata": {},
   "outputs": [],
   "source": [
    "## removed mote5 mote15 and mote18 -- because they were out of bound (of insuffucient length)\n",
    "motes_for_kriging = [1 , 2 , 3 , 4 , 6 , 7 , 8 , 9 , 10 , 11 , 12 , 13 , 14 , 16 , 17 , 19 , 20 , 21 , 22 , 23 , 24 , 25 , 26 , 27 , 28 , 29 , 30 , 31 , 32 , 33 , 34 , 35 , 36 , 37 , 38 , 39 , 40 , 41 , 42 , 43 , 44 , 45 , 46 , 47 , 48 , 49 , 50 , 51 , 52 , 53 , 54]\n",
    "motes_for_kriging = [x-1 for x in motes_for_kriging]"
   ]
  },
  {
   "cell_type": "markdown",
   "metadata": {},
   "source": [
    "## Load Dataset"
   ]
  },
  {
   "cell_type": "code",
   "execution_count": 24,
   "metadata": {},
   "outputs": [],
   "source": [
    "## define positions\n",
    "mat_pos = scipy.io.loadmat('../motes_position.mat')\n",
    "x_cor = mat_pos['motes_position'][motes_for_kriging, 0]\n",
    "y_cor = mat_pos['motes_position'][motes_for_kriging, 1]"
   ]
  },
  {
   "cell_type": "code",
   "execution_count": 25,
   "metadata": {},
   "outputs": [],
   "source": [
    "start_data=100;\n",
    "end_data=1600;\n",
    "data = np.empty([1500, len(motes_for_kriging)])"
   ]
  },
  {
   "cell_type": "code",
   "execution_count": 26,
   "metadata": {},
   "outputs": [],
   "source": [
    "for x in range (0,len(motes_for_kriging)):\n",
    "    file_name = \"mote_\" + str(motes_for_kriging[x]+1) + \"_data_avg_10min\"\n",
    "    file = scipy.io.loadmat(file_name + \".mat\")[file_name]\n",
    "    data[:,x] = file[100:1600,1]"
   ]
  },
  {
   "cell_type": "markdown",
   "metadata": {},
   "source": [
    "## Calcuated at t=x;\n",
    "### Change *var at_time* to perform kriging at different time stamps"
   ]
  },
  {
   "cell_type": "code",
   "execution_count": 27,
   "metadata": {},
   "outputs": [
    {
     "name": "stdout",
     "output_type": "stream",
     "text": [
      "Plotting Enabled\n",
      "\n",
      "Adjusting data for anisotropy...\n",
      "Initializing variogram model...\n",
      "Using 'spherical' Variogram Model\n",
      "Partial Sill: 2.2967308674343876\n",
      "Full Sill: 2.8271447953846756\n",
      "Range: 12.624825333090893\n",
      "Nugget: 0.530413927950288 \n",
      "\n"
     ]
    },
    {
     "data": {
      "image/png": "[encoded data removed]",
      "text/plain": [
       "<Figure size 432x288 with 1 Axes>"
      ]
     },
     "metadata": {
      "needs_background": "light"
     },
     "output_type": "display_data"
    },
    {
     "name": "stdout",
     "output_type": "stream",
     "text": [
      "Calculating statistics on variogram model fit...\n",
      "Q1 = 0.4522728605101273\n",
      "Q2 = 1.0052417304784873\n",
      "cR = 2.312803398675249 \n",
      "\n",
      "Initializing drift terms...\n",
      "Implementing regional linear drift.\n",
      "Executing Universal Kriging...\n",
      "\n"
     ]
    }
   ],
   "source": [
    "at_time=50\n",
    "gridx = np.arange(0.0, 1, 0.1)\n",
    "gridy = np.arange(0.0, 1, 0.1)\n",
    "UK = UniversalKriging(x_cor, y_cor, data[at_time,:], variogram_model='spherical',\n",
    "                      drift_terms=['regional_linear'], enable_plotting=True, verbose = True)\n",
    "z, ss = UK.execute('points', x_cor, y_cor)"
   ]
  },
  {
   "cell_type": "code",
   "execution_count": 28,
   "metadata": {},
   "outputs": [
    {
     "name": "stdout",
     "output_type": "stream",
     "text": [
      "rms_error: 2.842170943040401e-14\n",
      "rms_error: 3.552713678800501e-14\n",
      "rms_error: 2.1316282072803006e-14\n",
      "rms_error: 7.105427357601002e-14\n",
      "rms_error: 5.684341886080802e-14\n",
      "rms_error: 1.4921397450962104e-13\n",
      "rms_error: 1.4210854715202004e-13\n",
      "rms_error: 1.0658141036401503e-13\n",
      "rms_error: 1.0658141036401503e-13\n",
      "rms_error: 7.105427357601002e-14\n",
      "rms_error: 1.4210854715202004e-14\n",
      "rms_error: 4.263256414560601e-14\n",
      "rms_error: 1.6342482922482304e-13\n",
      "rms_error: 1.8474111129762605e-13\n",
      "rms_error: 2.6290081223123707e-13\n",
      "rms_error: 1.7763568394002505e-13\n",
      "rms_error: 2.5579538487363607e-13\n",
      "rms_error: 2.4158453015843406e-13\n",
      "rms_error: 2.2737367544323206e-13\n",
      "rms_error: 1.9184653865522705e-13\n",
      "rms_error: 3.055333763768431e-13\n",
      "rms_error: 1.6342482922482304e-13\n",
      "rms_error: 2.8421709430404007e-13\n",
      "rms_error: 1.0658141036401503e-13\n",
      "rms_error: 1.4210854715202004e-13\n",
      "rms_error: 1.0658141036401503e-13\n",
      "rms_error: 7.105427357601002e-14\n",
      "rms_error: 4.263256414560601e-14\n",
      "rms_error: 9.947598300641403e-14\n",
      "rms_error: 1.2079226507921703e-13\n",
      "rms_error: 2.2737367544323206e-13\n",
      "rms_error: 2.4158453015843406e-13\n",
      "rms_error: 3.694822225952521e-13\n",
      "rms_error: 3.410605131648481e-13\n",
      "rms_error: 4.618527782440651e-13\n",
      "rms_error: 3.694822225952521e-13\n",
      "rms_error: 5.400124791776761e-13\n",
      "rms_error: 5.826450433232822e-13\n",
      "rms_error: 7.176481631177012e-13\n",
      "rms_error: 4.405364961712621e-13\n",
      "rms_error: 6.181721801112872e-13\n",
      "rms_error: 6.181721801112872e-13\n",
      "rms_error: 4.618527782440651e-13\n",
      "rms_error: 6.252776074688882e-13\n",
      "rms_error: 4.902744876744691e-13\n",
      "rms_error: 5.542233338928781e-13\n",
      "rms_error: 4.121147867408581e-13\n",
      "rms_error: 4.476419235288631e-13\n",
      "rms_error: 3.552713678800501e-13\n",
      "rms_error: 1.9184653865522705e-13\n",
      "rms_error: 2.2737367544323206e-13\n"
     ]
    }
   ],
   "source": [
    "rms_error = []\n",
    "for x in range(0,51):\n",
    "    rms_error.append(np.sqrt(np.mean((data[at_time][x] - z[x])**2)))\n",
    "    print(\"rms_error:\", np.sqrt(np.mean((data[at_time][x] - z[x])**2)))"
   ]
  },
  {
   "cell_type": "code",
   "execution_count": 29,
   "metadata": {},
   "outputs": [
    {
     "name": "stdout",
     "output_type": "stream",
     "text": [
      "RMS error averaged over each mode at this time stamp 2.6053233644537005e-13\n"
     ]
    }
   ],
   "source": [
    "print(\"RMS error averaged over each mode at this time stamp\", sum(rms_error)/len(rms_error))"
   ]
  },
  {
   "cell_type": "code",
   "execution_count": 30,
   "metadata": {},
   "outputs": [],
   "source": [
    "out_plt = str(at_time) + '_error.png'"
   ]
  },
  {
   "cell_type": "code",
   "execution_count": 31,
   "metadata": {},
   "outputs": [
    {
     "data": {
      "image/png": "[encoded data removed]",
      "text/plain": [
       "<Figure size 432x288 with 1 Axes>"
      ]
     },
     "metadata": {
      "needs_background": "light"
     },
     "output_type": "display_data"
    }
   ],
   "source": [
    "plt.plot(rms_error)\n",
    "plt.xlabel('modes')\n",
    "plt.ylabel('error value')\n",
    "plt.show()"
   ]
  },
  {
   "cell_type": "code",
   "execution_count": null,
   "metadata": {},
   "outputs": [],
   "source": []
  },
  {
   "cell_type": "code",
   "execution_count": null,
   "metadata": {},
   "outputs": [],
   "source": []
  }
 ],
 "metadata": {
  "kernelspec": {
   "display_name": "Python 3",
   "language": "python",
   "name": "python3"
  },
  "language_info": {
   "codemirror_mode": {
    "name": "ipython",
    "version": 3
   },
   "file_extension": ".py",
   "mimetype": "text/x-python",
   "name": "python",
   "nbconvert_exporter": "python",
   "pygments_lexer": "ipython3",
   "version": "3.7.3"
  }
 },
 "nbformat": 4,
 "nbformat_minor": 4
}
